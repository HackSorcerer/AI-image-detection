{
  "cells": [
    {
      "cell_type": "code",
      "execution_count": null,
      "metadata": {
        "colab": {
          "base_uri": "https://localhost:8080/"
        },
        "id": "VOINdaryeb4m",
        "outputId": "b46cb3f8-201a-4be0-e6a8-affc75769bcf"
      },
      "outputs": [
        {
          "output_type": "stream",
          "name": "stdout",
          "text": [
            "Looking in indexes: https://pypi.org/simple, https://us-python.pkg.dev/colab-wheels/public/simple/\n",
            "Requirement already satisfied: utils in /usr/local/lib/python3.10/dist-packages (1.0.1)\n",
            "ERROR: unknown command \"insatll\" - maybe you meant \"install\"\n"
          ]
        }
      ],
      "source": [
        "!pip install utils\n",
        "!pip insatll xgboost\n"
      ]
    },
    {
      "cell_type": "code",
      "execution_count": null,
      "metadata": {
        "id": "PIBhk-0dgat7"
      },
      "outputs": [],
      "source": [
        "from sklearn.model_selection import train_test_split"
      ]
    },
    {
      "cell_type": "code",
      "source": [],
      "metadata": {
        "id": "sIM0IGRRIoBN"
      },
      "execution_count": null,
      "outputs": []
    },
    {
      "cell_type": "code",
      "execution_count": null,
      "metadata": {
        "id": "k0ieozNUT15c"
      },
      "outputs": [],
      "source": [
        "import pandas as pd\n",
        "import matplotlib.pyplot as plt\n",
        "from matplotlib.image import imread\n",
        "from keras import datasets, layers, models\n",
        "import tensorflow as tf\n",
        "\n",
        "import numpy as np\n",
        "import os\n",
        "import utils\n",
        "\n",
        "from sklearn import preprocessing\n",
        "from imblearn.over_sampling import SMOTE\n",
        "from xgboost import XGBClassifier"
      ]
    },
    {
      "cell_type": "code",
      "execution_count": null,
      "metadata": {
        "colab": {
          "base_uri": "https://localhost:8080/"
        },
        "id": "TPLn6aMJu-GZ",
        "outputId": "f52f9f2e-1511-43f8-a3ba-bf9ef344f237"
      },
      "outputs": [
        {
          "output_type": "stream",
          "name": "stdout",
          "text": [
            "Files in '/content': ['.config', 'train.csv', 'solution_format.csv', 'test.csv', 'drive', 'sample_data']\n"
          ]
        }
      ],
      "source": [
        "import os\n",
        "\n",
        "cwd = os.getcwd()  # Get the current working directory (cwd)\n",
        "files = os.listdir(cwd)  # Get all the files in that directory\n",
        "print(\"Files in %r: %s\" % (cwd, files))"
      ]
    },
    {
      "cell_type": "code",
      "execution_count": null,
      "metadata": {
        "id": "jlq9Ihfue08F"
      },
      "outputs": [],
      "source": [
        "train_data=pd.read_csv('/content/train.csv')\n",
        "test_data=pd.read_csv('/content/test.csv')"
      ]
    },
    {
      "cell_type": "code",
      "source": [],
      "metadata": {
        "id": "9bar1CS8Ouqa"
      },
      "execution_count": null,
      "outputs": []
    },
    {
      "cell_type": "code",
      "execution_count": null,
      "metadata": {
        "id": "_cAWmUAhfoyl"
      },
      "outputs": [],
      "source": [
        "Train_image=train_data.drop('labels',axis ='columns')\n",
        "Train_label=train_data['labels']"
      ]
    },
    {
      "cell_type": "code",
      "execution_count": null,
      "metadata": {
        "id": "UxWGH5rQfuIk"
      },
      "outputs": [],
      "source": [
        "Train_image=Train_image.to_numpy()\n",
        "Train_label=Train_label.to_numpy()\n",
        "Train_reshape_image=Train_image.reshape(-1,20,20,3)"
      ]
    },
    {
      "cell_type": "code",
      "execution_count": null,
      "metadata": {
        "id": "cW9hTlQXfwYD"
      },
      "outputs": [],
      "source": [
        "Xtrain,Xtest,Ytrain,Ytest=train_test_split(Train_reshape_image,Train_label,test_size=0.8)"
      ]
    },
    {
      "cell_type": "code",
      "source": [
        "from sklearn.svm import SVC\n",
        "from sklearn.metrics import accuracy_score"
      ],
      "metadata": {
        "id": "5bwAxmtf5CL6"
      },
      "execution_count": null,
      "outputs": []
    },
    {
      "cell_type": "code",
      "source": [
        "svm_model = SVC()"
      ],
      "metadata": {
        "id": "tg4NRjUJ48Zf"
      },
      "execution_count": null,
      "outputs": []
    },
    {
      "cell_type": "code",
      "source": [
        "Xtrain_flatten = Xtrain.reshape(Xtrain.shape[0], -1)\n",
        "Xtest_flatten = Xtest.reshape(Xtest.shape[0], -1)\n"
      ],
      "metadata": {
        "id": "bGk0caR75JO7"
      },
      "execution_count": null,
      "outputs": []
    },
    {
      "cell_type": "code",
      "source": [
        "# Train the SVM model\n",
        "svm_model.fit(Xtrain_flatten, Ytrain)"
      ],
      "metadata": {
        "colab": {
          "base_uri": "https://localhost:8080/",
          "height": 74
        },
        "id": "ZIC2MDUW5P0R",
        "outputId": "bc122078-249e-43fb-86ed-0984cb9a932b"
      },
      "execution_count": null,
      "outputs": [
        {
          "output_type": "execute_result",
          "data": {
            "text/plain": [
              "SVC()"
            ],
            "text/html": [
              "<style>#sk-container-id-17 {color: black;background-color: white;}#sk-container-id-17 pre{padding: 0;}#sk-container-id-17 div.sk-toggleable {background-color: white;}#sk-container-id-17 label.sk-toggleable__label {cursor: pointer;display: block;width: 100%;margin-bottom: 0;padding: 0.3em;box-sizing: border-box;text-align: center;}#sk-container-id-17 label.sk-toggleable__label-arrow:before {content: \"▸\";float: left;margin-right: 0.25em;color: #696969;}#sk-container-id-17 label.sk-toggleable__label-arrow:hover:before {color: black;}#sk-container-id-17 div.sk-estimator:hover label.sk-toggleable__label-arrow:before {color: black;}#sk-container-id-17 div.sk-toggleable__content {max-height: 0;max-width: 0;overflow: hidden;text-align: left;background-color: #f0f8ff;}#sk-container-id-17 div.sk-toggleable__content pre {margin: 0.2em;color: black;border-radius: 0.25em;background-color: #f0f8ff;}#sk-container-id-17 input.sk-toggleable__control:checked~div.sk-toggleable__content {max-height: 200px;max-width: 100%;overflow: auto;}#sk-container-id-17 input.sk-toggleable__control:checked~label.sk-toggleable__label-arrow:before {content: \"▾\";}#sk-container-id-17 div.sk-estimator input.sk-toggleable__control:checked~label.sk-toggleable__label {background-color: #d4ebff;}#sk-container-id-17 div.sk-label input.sk-toggleable__control:checked~label.sk-toggleable__label {background-color: #d4ebff;}#sk-container-id-17 input.sk-hidden--visually {border: 0;clip: rect(1px 1px 1px 1px);clip: rect(1px, 1px, 1px, 1px);height: 1px;margin: -1px;overflow: hidden;padding: 0;position: absolute;width: 1px;}#sk-container-id-17 div.sk-estimator {font-family: monospace;background-color: #f0f8ff;border: 1px dotted black;border-radius: 0.25em;box-sizing: border-box;margin-bottom: 0.5em;}#sk-container-id-17 div.sk-estimator:hover {background-color: #d4ebff;}#sk-container-id-17 div.sk-parallel-item::after {content: \"\";width: 100%;border-bottom: 1px solid gray;flex-grow: 1;}#sk-container-id-17 div.sk-label:hover label.sk-toggleable__label {background-color: #d4ebff;}#sk-container-id-17 div.sk-serial::before {content: \"\";position: absolute;border-left: 1px solid gray;box-sizing: border-box;top: 0;bottom: 0;left: 50%;z-index: 0;}#sk-container-id-17 div.sk-serial {display: flex;flex-direction: column;align-items: center;background-color: white;padding-right: 0.2em;padding-left: 0.2em;position: relative;}#sk-container-id-17 div.sk-item {position: relative;z-index: 1;}#sk-container-id-17 div.sk-parallel {display: flex;align-items: stretch;justify-content: center;background-color: white;position: relative;}#sk-container-id-17 div.sk-item::before, #sk-container-id-17 div.sk-parallel-item::before {content: \"\";position: absolute;border-left: 1px solid gray;box-sizing: border-box;top: 0;bottom: 0;left: 50%;z-index: -1;}#sk-container-id-17 div.sk-parallel-item {display: flex;flex-direction: column;z-index: 1;position: relative;background-color: white;}#sk-container-id-17 div.sk-parallel-item:first-child::after {align-self: flex-end;width: 50%;}#sk-container-id-17 div.sk-parallel-item:last-child::after {align-self: flex-start;width: 50%;}#sk-container-id-17 div.sk-parallel-item:only-child::after {width: 0;}#sk-container-id-17 div.sk-dashed-wrapped {border: 1px dashed gray;margin: 0 0.4em 0.5em 0.4em;box-sizing: border-box;padding-bottom: 0.4em;background-color: white;}#sk-container-id-17 div.sk-label label {font-family: monospace;font-weight: bold;display: inline-block;line-height: 1.2em;}#sk-container-id-17 div.sk-label-container {text-align: center;}#sk-container-id-17 div.sk-container {/* jupyter's `normalize.less` sets `[hidden] { display: none; }` but bootstrap.min.css set `[hidden] { display: none !important; }` so we also need the `!important` here to be able to override the default hidden behavior on the sphinx rendered scikit-learn.org. See: https://github.com/scikit-learn/scikit-learn/issues/21755 */display: inline-block !important;position: relative;}#sk-container-id-17 div.sk-text-repr-fallback {display: none;}</style><div id=\"sk-container-id-17\" class=\"sk-top-container\"><div class=\"sk-text-repr-fallback\"><pre>SVC()</pre><b>In a Jupyter environment, please rerun this cell to show the HTML representation or trust the notebook. <br />On GitHub, the HTML representation is unable to render, please try loading this page with nbviewer.org.</b></div><div class=\"sk-container\" hidden><div class=\"sk-item\"><div class=\"sk-estimator sk-toggleable\"><input class=\"sk-toggleable__control sk-hidden--visually\" id=\"sk-estimator-id-17\" type=\"checkbox\" checked><label for=\"sk-estimator-id-17\" class=\"sk-toggleable__label sk-toggleable__label-arrow\">SVC</label><div class=\"sk-toggleable__content\"><pre>SVC()</pre></div></div></div></div></div>"
            ]
          },
          "metadata": {},
          "execution_count": 367
        }
      ]
    },
    {
      "cell_type": "code",
      "source": [
        "\n",
        "# Predict the classes\n",
        "svm_predictions = svm_model.predict(Xtest_flatten)\n"
      ],
      "metadata": {
        "id": "iZXRd6UC5Psy"
      },
      "execution_count": null,
      "outputs": []
    },
    {
      "cell_type": "code",
      "source": [
        "# Calculate accuracy\n",
        "svm_accuracy = accuracy_score(Ytest, svm_predictions)"
      ],
      "metadata": {
        "id": "L2vR0ZjQ5Pda"
      },
      "execution_count": null,
      "outputs": []
    },
    {
      "cell_type": "code",
      "source": [
        "print(\"SVM Accuracy: {:.4f}\".format(svm_accuracy))"
      ],
      "metadata": {
        "colab": {
          "base_uri": "https://localhost:8080/"
        },
        "id": "XlYQBXR-5bly",
        "outputId": "c9db46b3-92d4-4922-ebc1-25646bf52af2"
      },
      "execution_count": null,
      "outputs": [
        {
          "output_type": "stream",
          "name": "stdout",
          "text": [
            "SVM Accuracy: 0.8390\n"
          ]
        }
      ]
    },
    {
      "cell_type": "code",
      "source": [
        "plt.imshow(Xtrain[2])"
      ],
      "metadata": {
        "colab": {
          "base_uri": "https://localhost:8080/",
          "height": 465
        },
        "id": "Mu1VHbeZXBqw",
        "outputId": "2efaae35-76e8-48c2-960c-ebb807b04112"
      },
      "execution_count": null,
      "outputs": [
        {
          "output_type": "stream",
          "name": "stderr",
          "text": [
            "WARNING:matplotlib.image:Clipping input data to the valid range for imshow with RGB data ([0..1] for floats or [0..255] for integers).\n"
          ]
        },
        {
          "output_type": "execute_result",
          "data": {
            "text/plain": [
              "<matplotlib.image.AxesImage at 0x7f464abe5870>"
            ]
          },
          "metadata": {},
          "execution_count": 371
        },
        {
          "output_type": "display_data",
          "data": {
            "text/plain": [
              "<Figure size 640x480 with 1 Axes>"
            ],
            "image/png": "[encoded data removed]"
          },
          "metadata": {}
        }
      ]
    },
    {
      "cell_type": "code",
      "execution_count": null,
      "metadata": {
        "colab": {
          "base_uri": "https://localhost:8080/"
        },
        "id": "cNTUe97Igsl9",
        "outputId": "fddc2561-3ddf-4777-ef14-d47bc86ddd58"
      },
      "outputs": [
        {
          "output_type": "stream",
          "name": "stdout",
          "text": [
            "Epoch 1/50\n",
            "33/33 [==============================] - 1s 5ms/step - loss: 4.9469 - accuracy: 0.5552\n",
            "Epoch 2/50\n",
            "33/33 [==============================] - 0s 4ms/step - loss: 3.1027 - accuracy: 0.7295\n",
            "Epoch 3/50\n",
            "33/33 [==============================] - 0s 5ms/step - loss: 2.1303 - accuracy: 0.8362\n",
            "Epoch 4/50\n",
            "33/33 [==============================] - 0s 5ms/step - loss: 1.3910 - accuracy: 0.9086\n",
            "Epoch 5/50\n",
            "33/33 [==============================] - 0s 4ms/step - loss: 0.8514 - accuracy: 0.9676\n",
            "Epoch 6/50\n",
            "33/33 [==============================] - 0s 8ms/step - loss: 0.5462 - accuracy: 0.9829\n",
            "Epoch 7/50\n",
            "33/33 [==============================] - 0s 6ms/step - loss: 0.4014 - accuracy: 0.9943\n",
            "Epoch 8/50\n",
            "33/33 [==============================] - 0s 6ms/step - loss: 0.3236 - accuracy: 0.9943\n",
            "Epoch 9/50\n",
            "33/33 [==============================] - 0s 6ms/step - loss: 0.2625 - accuracy: 0.9962\n",
            "Epoch 10/50\n",
            "33/33 [==============================] - 0s 6ms/step - loss: 0.2211 - accuracy: 0.9971\n",
            "Epoch 11/50\n",
            "33/33 [==============================] - 0s 7ms/step - loss: 0.1832 - accuracy: 0.9962\n",
            "Epoch 12/50\n",
            "33/33 [==============================] - 0s 6ms/step - loss: 0.1545 - accuracy: 1.0000\n",
            "Epoch 13/50\n",
            "33/33 [==============================] - 0s 7ms/step - loss: 0.1354 - accuracy: 0.9981\n",
            "Epoch 14/50\n",
            "33/33 [==============================] - 0s 9ms/step - loss: 0.1273 - accuracy: 0.9943\n",
            "Epoch 15/50\n",
            "33/33 [==============================] - 0s 10ms/step - loss: 0.1050 - accuracy: 0.9981\n",
            "Epoch 16/50\n",
            "33/33 [==============================] - 0s 7ms/step - loss: 0.0890 - accuracy: 0.9971\n",
            "Epoch 17/50\n",
            "33/33 [==============================] - 0s 7ms/step - loss: 0.0939 - accuracy: 0.9952\n",
            "Epoch 18/50\n",
            "33/33 [==============================] - 0s 5ms/step - loss: 0.0814 - accuracy: 1.0000\n",
            "Epoch 19/50\n",
            "33/33 [==============================] - 0s 4ms/step - loss: 0.0675 - accuracy: 0.9981\n",
            "Epoch 20/50\n",
            "33/33 [==============================] - 0s 4ms/step - loss: 0.0699 - accuracy: 0.9971\n",
            "Epoch 21/50\n",
            "33/33 [==============================] - 0s 4ms/step - loss: 0.0578 - accuracy: 1.0000\n",
            "Epoch 22/50\n",
            "33/33 [==============================] - 0s 4ms/step - loss: 0.0578 - accuracy: 0.9981\n",
            "Epoch 23/50\n",
            "33/33 [==============================] - 0s 5ms/step - loss: 0.0602 - accuracy: 0.9971\n",
            "Epoch 24/50\n",
            "33/33 [==============================] - 0s 4ms/step - loss: 0.0469 - accuracy: 1.0000\n",
            "Epoch 25/50\n",
            "33/33 [==============================] - 0s 4ms/step - loss: 0.0437 - accuracy: 1.0000\n",
            "Epoch 26/50\n",
            "33/33 [==============================] - 0s 5ms/step - loss: 0.0490 - accuracy: 0.9962\n",
            "Epoch 27/50\n",
            "33/33 [==============================] - 0s 4ms/step - loss: 0.0453 - accuracy: 0.9971\n",
            "Epoch 28/50\n",
            "33/33 [==============================] - 0s 5ms/step - loss: 0.0480 - accuracy: 0.9981\n",
            "Epoch 29/50\n",
            "33/33 [==============================] - 0s 4ms/step - loss: 0.0376 - accuracy: 0.9990\n",
            "Epoch 30/50\n",
            "33/33 [==============================] - 0s 5ms/step - loss: 0.0468 - accuracy: 0.9981\n",
            "Epoch 31/50\n",
            "33/33 [==============================] - 0s 4ms/step - loss: 0.0484 - accuracy: 0.9962\n",
            "Epoch 32/50\n",
            "33/33 [==============================] - 0s 4ms/step - loss: 0.0366 - accuracy: 1.0000\n",
            "Epoch 33/50\n",
            "33/33 [==============================] - 0s 4ms/step - loss: 0.0392 - accuracy: 0.9990\n",
            "Epoch 34/50\n",
            "33/33 [==============================] - 0s 4ms/step - loss: 0.0380 - accuracy: 0.9990\n",
            "Epoch 35/50\n",
            "33/33 [==============================] - 0s 4ms/step - loss: 0.0458 - accuracy: 0.9952\n",
            "Epoch 36/50\n",
            "33/33 [==============================] - 0s 5ms/step - loss: 0.0390 - accuracy: 0.9971\n",
            "Epoch 37/50\n",
            "33/33 [==============================] - 0s 6ms/step - loss: 0.0417 - accuracy: 0.9971\n",
            "Epoch 38/50\n",
            "33/33 [==============================] - 0s 5ms/step - loss: 0.0420 - accuracy: 0.9971\n",
            "Epoch 39/50\n",
            "33/33 [==============================] - 0s 6ms/step - loss: 0.0325 - accuracy: 0.9990\n",
            "Epoch 40/50\n",
            "33/33 [==============================] - 0s 6ms/step - loss: 0.0313 - accuracy: 0.9981\n",
            "Epoch 41/50\n",
            "33/33 [==============================] - 0s 9ms/step - loss: 0.0355 - accuracy: 0.9981\n",
            "Epoch 42/50\n",
            "33/33 [==============================] - 0s 8ms/step - loss: 0.0317 - accuracy: 0.9981\n",
            "Epoch 43/50\n",
            "33/33 [==============================] - 0s 6ms/step - loss: 0.0239 - accuracy: 1.0000\n",
            "Epoch 44/50\n",
            "33/33 [==============================] - 0s 7ms/step - loss: 0.0260 - accuracy: 0.9990\n",
            "Epoch 45/50\n",
            "33/33 [==============================] - 0s 9ms/step - loss: 0.0225 - accuracy: 1.0000\n",
            "Epoch 46/50\n",
            "33/33 [==============================] - 0s 7ms/step - loss: 0.0228 - accuracy: 1.0000\n",
            "Epoch 47/50\n",
            "33/33 [==============================] - 0s 7ms/step - loss: 0.0236 - accuracy: 1.0000\n",
            "Epoch 48/50\n",
            "33/33 [==============================] - 0s 8ms/step - loss: 0.0210 - accuracy: 1.0000\n",
            "Epoch 49/50\n",
            "33/33 [==============================] - 0s 7ms/step - loss: 0.0220 - accuracy: 0.9990\n",
            "Epoch 50/50\n",
            "33/33 [==============================] - 0s 7ms/step - loss: 0.0226 - accuracy: 1.0000\n",
            "132/132 [==============================] - 1s 2ms/step - loss: 1.0285 - accuracy: 0.8195\n"
          ]
        }
      ],
      "source": [
        "model_cnn = models.Sequential([\n",
        "        layers.Conv2D(filters=32,kernel_size=(11,11),activation='relu',input_shape=(20,20,3),strides=(2,2),use_bias=True),\n",
        "        layers.Dropout(0.2),\n",
        "        layers.MaxPool2D((2,2),padding='same'),\n",
        "        layers.Conv2D(filters=32,kernel_size=(3,3),activation='relu',use_bias=True),\n",
        "        layers.MaxPool2D((2,2),padding ='same'),\n",
        "\n",
        "        layers.Flatten(),\n",
        "        layers.Dense(128,activation='relu',kernel_regularizer=tf.keras.regularizers.L1(l=0.01)),\n",
        "        layers.Dropout(0.2),\n",
        "        layers.Dense(32,activation='relu'),\n",
        "        layers.Dropout(0.2),\n",
        "        layers.Dense(16,activation='softmax')\n",
        "        ])\n",
        "\n",
        "opt =tf.keras.optimizers.Adam(learning_rate=0.001)\n",
        "\n",
        "model_cnn.compile(optimizer=opt,\n",
        "    loss='sparse_categorical_crossentropy',\n",
        "    metrics=['accuracy',]\n",
        "    )\n",
        "model_cnn.fit(Xtrain,Ytrain,epochs=50)\n",
        "accuracy_mod=model_cnn.evaluate(Xtest,Ytest)"
      ]
    },
    {
      "cell_type": "code",
      "source": [
        "import numpy as np\n",
        "from sklearn.metrics import fbeta_score, precision_score, recall_score, f1_score\n",
        "\n",
        "# Assuming your model's predictions are stored in 'y_pred' variable\n",
        "y_pred = model_cnn.predict(Xtest)\n",
        "y_pred_classes = np.argmax(y_pred, axis=1)\n",
        "\n",
        "# Calculate evaluation metrics\n",
        "f2_score = fbeta_score(Ytest, y_pred_classes, beta=2)\n",
        "precision = precision_score(Ytest, y_pred_classes)\n",
        "recall = recall_score(Ytest, y_pred_classes)\n",
        "f1 = f1_score(Ytest, y_pred_classes)\n",
        "\n",
        "print(\"F2 Score: {:.4f}\".format(f2_score))\n",
        "print(\"Precision: {:.4f}\".format(precision))\n",
        "print(\"Recall: {:.4f}\".format(recall))\n",
        "print(\"F1 Score: {:.4f}\".format(f1))\n"
      ],
      "metadata": {
        "colab": {
          "base_uri": "https://localhost:8080/"
        },
        "id": "VefVxHj40fJ8",
        "outputId": "b55a7101-104a-427f-9aaf-312eb37ac73a"
      },
      "execution_count": null,
      "outputs": [
        {
          "output_type": "stream",
          "name": "stdout",
          "text": [
            "132/132 [==============================] - 0s 2ms/step\n",
            "F2 Score: 0.5644\n",
            "Precision: 0.7252\n",
            "Recall: 0.5348\n",
            "F1 Score: 0.6156\n"
          ]
        }
      ]
    },
    {
      "cell_type": "code",
      "source": [],
      "metadata": {
        "id": "y0vYTHOuPZjz"
      },
      "execution_count": null,
      "outputs": []
    },
    {
      "cell_type": "code",
      "source": [
        "from sklearn.model_selection import GridSearchCV\n",
        "\n",
        "# Define the parameter grid\n",
        "param_grid = {\n",
        "    'C': [0.1, 1, 10],\n",
        "    'kernel': ['linear', 'rbf', 'poly'],\n",
        "    'degree': [2, 3, 4]\n",
        "}\n",
        "\n",
        "# Create the SVM model\n",
        "svm_model = SVC()\n",
        "\n",
        "# Perform grid search to find optimal hyperparameters\n",
        "grid_search = GridSearchCV(estimator=svm_model, param_grid=param_grid, scoring='f1')\n",
        "grid_search.fit(Xtrain_flatten, Ytrain)\n",
        "\n",
        "# Retrieve the best model and its hyperparameters\n",
        "best_svm_model = grid_search.best_estimator_\n",
        "best_params = grid_search.best_params_\n",
        "\n",
        "print(\"Best Parameters:\", best_params)\n",
        "\n",
        "# Predict using the best model\n",
        "best_svm_predictions = best_svm_model.predict(Xtest_flatten)\n",
        "\n",
        "# Calculate the F1 score\n",
        "best_f1_score = f1_score(Ytest, best_svm_predictions)\n",
        "\n",
        "print(\"Best F1 Score:\", best_f1_score)\n"
      ],
      "metadata": {
        "colab": {
          "base_uri": "https://localhost:8080/"
        },
        "id": "GQUouRzd6dOf",
        "outputId": "63c7b739-f9a8-4f72-d9eb-d573668473f9"
      },
      "execution_count": null,
      "outputs": [
        {
          "output_type": "stream",
          "name": "stdout",
          "text": [
            "Best Parameters: {'C': 0.1, 'degree': 2, 'kernel': 'linear'}\n",
            "Best F1 Score: 0.611111111111111\n"
          ]
        }
      ]
    },
    {
      "cell_type": "code",
      "source": [
        "smote = SMOTE(sampling_strategy='minority')\n",
        "Train_image_sm, Train_label_sm=smote.fit_resample(Train_image,Train_label)"
      ],
      "metadata": {
        "id": "_v4xbIcCPE1a"
      },
      "execution_count": null,
      "outputs": []
    },
    {
      "cell_type": "code",
      "source": [
        "xg_model=XGBClassifier(n_estimators=1000)"
      ],
      "metadata": {
        "id": "hBZi2ukNPbn6"
      },
      "execution_count": null,
      "outputs": []
    },
    {
      "cell_type": "code",
      "source": [
        "Xtrain.shape"
      ],
      "metadata": {
        "colab": {
          "base_uri": "https://localhost:8080/"
        },
        "id": "Hn5EZIf9QnyF",
        "outputId": "49836b34-d214-46b6-9095-37beae775098"
      },
      "execution_count": null,
      "outputs": [
        {
          "output_type": "execute_result",
          "data": {
            "text/plain": [
              "(1050, 20, 20, 3)"
            ]
          },
          "metadata": {},
          "execution_count": 377
        }
      ]
    },
    {
      "cell_type": "code",
      "source": [
        "xg_model.fit(Xtrain_flatten,Ytrain)"
      ],
      "metadata": {
        "colab": {
          "base_uri": "https://localhost:8080/",
          "height": 248
        },
        "id": "90SI2YcNPgfx",
        "outputId": "82b4b6fa-4e3d-4ecf-a94b-d87ce4fb6171"
      },
      "execution_count": null,
      "outputs": [
        {
          "output_type": "execute_result",
          "data": {
            "text/plain": [
              "XGBClassifier(base_score=None, booster=None, callbacks=None,\n",
              "              colsample_bylevel=None, colsample_bynode=None,\n",
              "              colsample_bytree=None, early_stopping_rounds=None,\n",
              "              enable_categorical=False, eval_metric=None, feature_types=None,\n",
              "              gamma=None, gpu_id=None, grow_policy=None, importance_type=None,\n",
              "              interaction_constraints=None, learning_rate=None, max_bin=None,\n",
              "              max_cat_threshold=None, max_cat_to_onehot=None,\n",
              "              max_delta_step=None, max_depth=None, max_leaves=None,\n",
              "              min_child_weight=None, missing=nan, monotone_constraints=None,\n",
              "              n_estimators=1000, n_jobs=None, num_parallel_tree=None,\n",
              "              predictor=None, random_state=None, ...)"
            ],
            "text/html": [
              "<style>#sk-container-id-18 {color: black;background-color: white;}#sk-container-id-18 pre{padding: 0;}#sk-container-id-18 div.sk-toggleable {background-color: white;}#sk-container-id-18 label.sk-toggleable__label {cursor: pointer;display: block;width: 100%;margin-bottom: 0;padding: 0.3em;box-sizing: border-box;text-align: center;}#sk-container-id-18 label.sk-toggleable__label-arrow:before {content: \"▸\";float: left;margin-right: 0.25em;color: #696969;}#sk-container-id-18 label.sk-toggleable__label-arrow:hover:before {color: black;}#sk-container-id-18 div.sk-estimator:hover label.sk-toggleable__label-arrow:before {color: black;}#sk-container-id-18 div.sk-toggleable__content {max-height: 0;max-width: 0;overflow: hidden;text-align: left;background-color: #f0f8ff;}#sk-container-id-18 div.sk-toggleable__content pre {margin: 0.2em;color: black;border-radius: 0.25em;background-color: #f0f8ff;}#sk-container-id-18 input.sk-toggleable__control:checked~div.sk-toggleable__content {max-height: 200px;max-width: 100%;overflow: auto;}#sk-container-id-18 input.sk-toggleable__control:checked~label.sk-toggleable__label-arrow:before {content: \"▾\";}#sk-container-id-18 div.sk-estimator input.sk-toggleable__control:checked~label.sk-toggleable__label {background-color: #d4ebff;}#sk-container-id-18 div.sk-label input.sk-toggleable__control:checked~label.sk-toggleable__label {background-color: #d4ebff;}#sk-container-id-18 input.sk-hidden--visually {border: 0;clip: rect(1px 1px 1px 1px);clip: rect(1px, 1px, 1px, 1px);height: 1px;margin: -1px;overflow: hidden;padding: 0;position: absolute;width: 1px;}#sk-container-id-18 div.sk-estimator {font-family: monospace;background-color: #f0f8ff;border: 1px dotted black;border-radius: 0.25em;box-sizing: border-box;margin-bottom: 0.5em;}#sk-container-id-18 div.sk-estimator:hover {background-color: #d4ebff;}#sk-container-id-18 div.sk-parallel-item::after {content: \"\";width: 100%;border-bottom: 1px solid gray;flex-grow: 1;}#sk-container-id-18 div.sk-label:hover label.sk-toggleable__label {background-color: #d4ebff;}#sk-container-id-18 div.sk-serial::before {content: \"\";position: absolute;border-left: 1px solid gray;box-sizing: border-box;top: 0;bottom: 0;left: 50%;z-index: 0;}#sk-container-id-18 div.sk-serial {display: flex;flex-direction: column;align-items: center;background-color: white;padding-right: 0.2em;padding-left: 0.2em;position: relative;}#sk-container-id-18 div.sk-item {position: relative;z-index: 1;}#sk-container-id-18 div.sk-parallel {display: flex;align-items: stretch;justify-content: center;background-color: white;position: relative;}#sk-container-id-18 div.sk-item::before, #sk-container-id-18 div.sk-parallel-item::before {content: \"\";position: absolute;border-left: 1px solid gray;box-sizing: border-box;top: 0;bottom: 0;left: 50%;z-index: -1;}#sk-container-id-18 div.sk-parallel-item {display: flex;flex-direction: column;z-index: 1;position: relative;background-color: white;}#sk-container-id-18 div.sk-parallel-item:first-child::after {align-self: flex-end;width: 50%;}#sk-container-id-18 div.sk-parallel-item:last-child::after {align-self: flex-start;width: 50%;}#sk-container-id-18 div.sk-parallel-item:only-child::after {width: 0;}#sk-container-id-18 div.sk-dashed-wrapped {border: 1px dashed gray;margin: 0 0.4em 0.5em 0.4em;box-sizing: border-box;padding-bottom: 0.4em;background-color: white;}#sk-container-id-18 div.sk-label label {font-family: monospace;font-weight: bold;display: inline-block;line-height: 1.2em;}#sk-container-id-18 div.sk-label-container {text-align: center;}#sk-container-id-18 div.sk-container {/* jupyter's `normalize.less` sets `[hidden] { display: none; }` but bootstrap.min.css set `[hidden] { display: none !important; }` so we also need the `!important` here to be able to override the default hidden behavior on the sphinx rendered scikit-learn.org. See: https://github.com/scikit-learn/scikit-learn/issues/21755 */display: inline-block !important;position: relative;}#sk-container-id-18 div.sk-text-repr-fallback {display: none;}</style><div id=\"sk-container-id-18\" class=\"sk-top-container\"><div class=\"sk-text-repr-fallback\"><pre>XGBClassifier(base_score=None, booster=None, callbacks=None,\n",
              "              colsample_bylevel=None, colsample_bynode=None,\n",
              "              colsample_bytree=None, early_stopping_rounds=None,\n",
              "              enable_categorical=False, eval_metric=None, feature_types=None,\n",
              "              gamma=None, gpu_id=None, grow_policy=None, importance_type=None,\n",
              "              interaction_constraints=None, learning_rate=None, max_bin=None,\n",
              "              max_cat_threshold=None, max_cat_to_onehot=None,\n",
              "              max_delta_step=None, max_depth=None, max_leaves=None,\n",
              "              min_child_weight=None, missing=nan, monotone_constraints=None,\n",
              "              n_estimators=1000, n_jobs=None, num_parallel_tree=None,\n",
              "              predictor=None, random_state=None, ...)</pre><b>In a Jupyter environment, please rerun this cell to show the HTML representation or trust the notebook. <br />On GitHub, the HTML representation is unable to render, please try loading this page with nbviewer.org.</b></div><div class=\"sk-container\" hidden><div class=\"sk-item\"><div class=\"sk-estimator sk-toggleable\"><input class=\"sk-toggleable__control sk-hidden--visually\" id=\"sk-estimator-id-18\" type=\"checkbox\" checked><label for=\"sk-estimator-id-18\" class=\"sk-toggleable__label sk-toggleable__label-arrow\">XGBClassifier</label><div class=\"sk-toggleable__content\"><pre>XGBClassifier(base_score=None, booster=None, callbacks=None,\n",
              "              colsample_bylevel=None, colsample_bynode=None,\n",
              "              colsample_bytree=None, early_stopping_rounds=None,\n",
              "              enable_categorical=False, eval_metric=None, feature_types=None,\n",
              "              gamma=None, gpu_id=None, grow_policy=None, importance_type=None,\n",
              "              interaction_constraints=None, learning_rate=None, max_bin=None,\n",
              "              max_cat_threshold=None, max_cat_to_onehot=None,\n",
              "              max_delta_step=None, max_depth=None, max_leaves=None,\n",
              "              min_child_weight=None, missing=nan, monotone_constraints=None,\n",
              "              n_estimators=1000, n_jobs=None, num_parallel_tree=None,\n",
              "              predictor=None, random_state=None, ...)</pre></div></div></div></div></div>"
            ]
          },
          "metadata": {},
          "execution_count": 378
        }
      ]
    },
    {
      "cell_type": "code",
      "source": [
        "test_d=test_data.drop('id',axis='columns')\n",
        "test_d"
      ],
      "metadata": {
        "colab": {
          "base_uri": "https://localhost:8080/",
          "height": 487
        },
        "id": "4vqXADe_Pikx",
        "outputId": "ddf2a6f1-5a5f-46c1-8dde-dd2e8a1efbb9"
      },
      "execution_count": null,
      "outputs": [
        {
          "output_type": "execute_result",
          "data": {
            "text/plain": [
              "           f_0       f_1       f_2       f_3       f_4       f_5       f_6  \\\n",
              "0    -3.388242  0.868285 -0.427619 -0.678964 -1.625735  0.262761  1.243040   \n",
              "1    -0.496920  0.952381  0.989040  0.451422  0.513516 -0.099658 -1.124326   \n",
              "2     1.128369 -0.537951  2.544358  1.165254 -1.904994  0.776961 -0.495768   \n",
              "3     0.051253  1.746814  0.681177  1.844524 -0.327977  1.226839 -0.085519   \n",
              "4     1.423209 -0.983594 -1.694170  1.197507  1.044211  0.518777 -0.298612   \n",
              "...        ...       ...       ...       ...       ...       ...       ...   \n",
              "2245  0.889888 -0.319077  0.849589  0.822723  0.876455  0.325704  0.876455   \n",
              "2246  1.005737 -0.064755  1.163494  1.163494  1.163494  0.724028  0.712760   \n",
              "2247  1.252086  1.223561  0.153859 -0.987156  0.239435 -0.003031 -1.158309   \n",
              "2248  1.042624 -0.129166  1.066538  1.030667  1.162195  0.707827 -1.396612   \n",
              "2249 -1.319572 -0.485173 -0.098500  2.323293 -0.139202 -0.953250  0.084661   \n",
              "\n",
              "           f_7       f_8       f_9  ...    f_1190    f_1191    f_1192  \\\n",
              "0     1.537751 -0.352028 -0.114245  ... -0.776403 -0.662884 -0.257091   \n",
              "1     0.729430 -0.216224 -0.000680  ...  0.379635 -1.760084  1.125450   \n",
              "2     0.060111 -1.418468 -0.086128  ...  1.165254 -1.373589 -0.483701   \n",
              "3     0.379008 -1.003667  0.570237  ... -0.442288 -2.794472 -0.763468   \n",
              "4    -0.365174  0.738447  0.054435  ... -2.624450 -3.200223  0.711422   \n",
              "...        ...       ...       ...  ...       ...       ...       ...   \n",
              "2245 -0.910127  0.889888  0.204808  ...  0.889888 -2.226556 -0.090717   \n",
              "2246 -0.785929 -1.225394  1.107152  ...  1.163494 -1.270468 -0.932417   \n",
              "2247  1.237823 -1.272410  0.767154  ...  0.581740 -1.386512  0.809943   \n",
              "2248  0.014319 -1.025944  0.982839  ...  1.078495 -1.193343  0.086061   \n",
              "2249 -0.566577  1.427840 -0.403768  ... -0.505524 -0.220607 -0.871845   \n",
              "\n",
              "        f_1193    f_1194    f_1195    f_1196    f_1197    f_1198    f_1199  \n",
              "0    -1.168413  0.223260 -0.482520 -0.085453 -0.382265 -0.539349 -1.682404  \n",
              "1    -0.328047 -0.880305 -1.257607  0.964312  2.021104  0.655021 -0.423029  \n",
              "2    -0.964782 -0.869555  0.066040 -0.444567 -0.531935 -0.878660  1.099488  \n",
              "3    -0.789832 -0.113209 -2.703150 -2.058728  1.070627 -0.458045 -0.435825  \n",
              "4    -0.190394  0.337224 -1.656639  0.707360 -0.562290  1.471181 -0.192000  \n",
              "...        ...       ...       ...       ...       ...       ...       ...  \n",
              "2245 -1.393713 -0.896694 -0.399675 -0.856395  0.876455  0.863022 -0.601169  \n",
              "2246 -1.169053 -0.008414 -0.605636 -0.323927  1.163494 -1.315541  0.047928  \n",
              "2247 -1.243885  0.153859 -0.630589  1.594391  1.252086 -1.429300  1.408976  \n",
              "2248 -0.081338 -0.978116 -0.368307 -0.129166  1.090452 -1.444440  0.468686  \n",
              "2249  0.654495  0.430631 -0.444470 -0.118851  0.471334 -0.078149 -0.566577  \n",
              "\n",
              "[2250 rows x 1200 columns]"
            ],
            "text/html": [
              "\n",
              "  <div id=\"df-21418fe9-e43a-4bcb-9ab5-e894a35914cd\">\n",
              "    <div class=\"colab-df-container\">\n",
              "      <div>\n",
              "<style scoped>\n",
              "    .dataframe tbody tr th:only-of-type {\n",
              "        vertical-align: middle;\n",
              "    }\n",
              "\n",
              "    .dataframe tbody tr th {\n",
              "        vertical-align: top;\n",
              "    }\n",
              "\n",
              "    .dataframe thead th {\n",
              "        text-align: right;\n",
              "    }\n",
              "</style>\n",
              "<table border=\"1\" class=\"dataframe\">\n",
              "  <thead>\n",
              "    <tr style=\"text-align: right;\">\n",
              "      <th></th>\n",
              "      <th>f_0</th>\n",
              "      <th>f_1</th>\n",
              "      <th>f_2</th>\n",
              "      <th>f_3</th>\n",
              "      <th>f_4</th>\n",
              "      <th>f_5</th>\n",
              "      <th>f_6</th>\n",
              "      <th>f_7</th>\n",
              "      <th>f_8</th>\n",
              "      <th>f_9</th>\n",
              "      <th>...</th>\n",
              "      <th>f_1190</th>\n",
              "      <th>f_1191</th>\n",
              "      <th>f_1192</th>\n",
              "      <th>f_1193</th>\n",
              "      <th>f_1194</th>\n",
              "      <th>f_1195</th>\n",
              "      <th>f_1196</th>\n",
              "      <th>f_1197</th>\n",
              "      <th>f_1198</th>\n",
              "      <th>f_1199</th>\n",
              "    </tr>\n",
              "  </thead>\n",
              "  <tbody>\n",
              "    <tr>\n",
              "      <th>0</th>\n",
              "      <td>-3.388242</td>\n",
              "      <td>0.868285</td>\n",
              "      <td>-0.427619</td>\n",
              "      <td>-0.678964</td>\n",
              "      <td>-1.625735</td>\n",
              "      <td>0.262761</td>\n",
              "      <td>1.243040</td>\n",
              "      <td>1.537751</td>\n",
              "      <td>-0.352028</td>\n",
              "      <td>-0.114245</td>\n",
              "      <td>...</td>\n",
              "      <td>-0.776403</td>\n",
              "      <td>-0.662884</td>\n",
              "      <td>-0.257091</td>\n",
              "      <td>-1.168413</td>\n",
              "      <td>0.223260</td>\n",
              "      <td>-0.482520</td>\n",
              "      <td>-0.085453</td>\n",
              "      <td>-0.382265</td>\n",
              "      <td>-0.539349</td>\n",
              "      <td>-1.682404</td>\n",
              "    </tr>\n",
              "    <tr>\n",
              "      <th>1</th>\n",
              "      <td>-0.496920</td>\n",
              "      <td>0.952381</td>\n",
              "      <td>0.989040</td>\n",
              "      <td>0.451422</td>\n",
              "      <td>0.513516</td>\n",
              "      <td>-0.099658</td>\n",
              "      <td>-1.124326</td>\n",
              "      <td>0.729430</td>\n",
              "      <td>-0.216224</td>\n",
              "      <td>-0.000680</td>\n",
              "      <td>...</td>\n",
              "      <td>0.379635</td>\n",
              "      <td>-1.760084</td>\n",
              "      <td>1.125450</td>\n",
              "      <td>-0.328047</td>\n",
              "      <td>-0.880305</td>\n",
              "      <td>-1.257607</td>\n",
              "      <td>0.964312</td>\n",
              "      <td>2.021104</td>\n",
              "      <td>0.655021</td>\n",
              "      <td>-0.423029</td>\n",
              "    </tr>\n",
              "    <tr>\n",
              "      <th>2</th>\n",
              "      <td>1.128369</td>\n",
              "      <td>-0.537951</td>\n",
              "      <td>2.544358</td>\n",
              "      <td>1.165254</td>\n",
              "      <td>-1.904994</td>\n",
              "      <td>0.776961</td>\n",
              "      <td>-0.495768</td>\n",
              "      <td>0.060111</td>\n",
              "      <td>-1.418468</td>\n",
              "      <td>-0.086128</td>\n",
              "      <td>...</td>\n",
              "      <td>1.165254</td>\n",
              "      <td>-1.373589</td>\n",
              "      <td>-0.483701</td>\n",
              "      <td>-0.964782</td>\n",
              "      <td>-0.869555</td>\n",
              "      <td>0.066040</td>\n",
              "      <td>-0.444567</td>\n",
              "      <td>-0.531935</td>\n",
              "      <td>-0.878660</td>\n",
              "      <td>1.099488</td>\n",
              "    </tr>\n",
              "    <tr>\n",
              "      <th>3</th>\n",
              "      <td>0.051253</td>\n",
              "      <td>1.746814</td>\n",
              "      <td>0.681177</td>\n",
              "      <td>1.844524</td>\n",
              "      <td>-0.327977</td>\n",
              "      <td>1.226839</td>\n",
              "      <td>-0.085519</td>\n",
              "      <td>0.379008</td>\n",
              "      <td>-1.003667</td>\n",
              "      <td>0.570237</td>\n",
              "      <td>...</td>\n",
              "      <td>-0.442288</td>\n",
              "      <td>-2.794472</td>\n",
              "      <td>-0.763468</td>\n",
              "      <td>-0.789832</td>\n",
              "      <td>-0.113209</td>\n",
              "      <td>-2.703150</td>\n",
              "      <td>-2.058728</td>\n",
              "      <td>1.070627</td>\n",
              "      <td>-0.458045</td>\n",
              "      <td>-0.435825</td>\n",
              "    </tr>\n",
              "    <tr>\n",
              "      <th>4</th>\n",
              "      <td>1.423209</td>\n",
              "      <td>-0.983594</td>\n",
              "      <td>-1.694170</td>\n",
              "      <td>1.197507</td>\n",
              "      <td>1.044211</td>\n",
              "      <td>0.518777</td>\n",
              "      <td>-0.298612</td>\n",
              "      <td>-0.365174</td>\n",
              "      <td>0.738447</td>\n",
              "      <td>0.054435</td>\n",
              "      <td>...</td>\n",
              "      <td>-2.624450</td>\n",
              "      <td>-3.200223</td>\n",
              "      <td>0.711422</td>\n",
              "      <td>-0.190394</td>\n",
              "      <td>0.337224</td>\n",
              "      <td>-1.656639</td>\n",
              "      <td>0.707360</td>\n",
              "      <td>-0.562290</td>\n",
              "      <td>1.471181</td>\n",
              "      <td>-0.192000</td>\n",
              "    </tr>\n",
              "    <tr>\n",
              "      <th>...</th>\n",
              "      <td>...</td>\n",
              "      <td>...</td>\n",
              "      <td>...</td>\n",
              "      <td>...</td>\n",
              "      <td>...</td>\n",
              "      <td>...</td>\n",
              "      <td>...</td>\n",
              "      <td>...</td>\n",
              "      <td>...</td>\n",
              "      <td>...</td>\n",
              "      <td>...</td>\n",
              "      <td>...</td>\n",
              "      <td>...</td>\n",
              "      <td>...</td>\n",
              "      <td>...</td>\n",
              "      <td>...</td>\n",
              "      <td>...</td>\n",
              "      <td>...</td>\n",
              "      <td>...</td>\n",
              "      <td>...</td>\n",
              "      <td>...</td>\n",
              "    </tr>\n",
              "    <tr>\n",
              "      <th>2245</th>\n",
              "      <td>0.889888</td>\n",
              "      <td>-0.319077</td>\n",
              "      <td>0.849589</td>\n",
              "      <td>0.822723</td>\n",
              "      <td>0.876455</td>\n",
              "      <td>0.325704</td>\n",
              "      <td>0.876455</td>\n",
              "      <td>-0.910127</td>\n",
              "      <td>0.889888</td>\n",
              "      <td>0.204808</td>\n",
              "      <td>...</td>\n",
              "      <td>0.889888</td>\n",
              "      <td>-2.226556</td>\n",
              "      <td>-0.090717</td>\n",
              "      <td>-1.393713</td>\n",
              "      <td>-0.896694</td>\n",
              "      <td>-0.399675</td>\n",
              "      <td>-0.856395</td>\n",
              "      <td>0.876455</td>\n",
              "      <td>0.863022</td>\n",
              "      <td>-0.601169</td>\n",
              "    </tr>\n",
              "    <tr>\n",
              "      <th>2246</th>\n",
              "      <td>1.005737</td>\n",
              "      <td>-0.064755</td>\n",
              "      <td>1.163494</td>\n",
              "      <td>1.163494</td>\n",
              "      <td>1.163494</td>\n",
              "      <td>0.724028</td>\n",
              "      <td>0.712760</td>\n",
              "      <td>-0.785929</td>\n",
              "      <td>-1.225394</td>\n",
              "      <td>1.107152</td>\n",
              "      <td>...</td>\n",
              "      <td>1.163494</td>\n",
              "      <td>-1.270468</td>\n",
              "      <td>-0.932417</td>\n",
              "      <td>-1.169053</td>\n",
              "      <td>-0.008414</td>\n",
              "      <td>-0.605636</td>\n",
              "      <td>-0.323927</td>\n",
              "      <td>1.163494</td>\n",
              "      <td>-1.315541</td>\n",
              "      <td>0.047928</td>\n",
              "    </tr>\n",
              "    <tr>\n",
              "      <th>2247</th>\n",
              "      <td>1.252086</td>\n",
              "      <td>1.223561</td>\n",
              "      <td>0.153859</td>\n",
              "      <td>-0.987156</td>\n",
              "      <td>0.239435</td>\n",
              "      <td>-0.003031</td>\n",
              "      <td>-1.158309</td>\n",
              "      <td>1.237823</td>\n",
              "      <td>-1.272410</td>\n",
              "      <td>0.767154</td>\n",
              "      <td>...</td>\n",
              "      <td>0.581740</td>\n",
              "      <td>-1.386512</td>\n",
              "      <td>0.809943</td>\n",
              "      <td>-1.243885</td>\n",
              "      <td>0.153859</td>\n",
              "      <td>-0.630589</td>\n",
              "      <td>1.594391</td>\n",
              "      <td>1.252086</td>\n",
              "      <td>-1.429300</td>\n",
              "      <td>1.408976</td>\n",
              "    </tr>\n",
              "    <tr>\n",
              "      <th>2248</th>\n",
              "      <td>1.042624</td>\n",
              "      <td>-0.129166</td>\n",
              "      <td>1.066538</td>\n",
              "      <td>1.030667</td>\n",
              "      <td>1.162195</td>\n",
              "      <td>0.707827</td>\n",
              "      <td>-1.396612</td>\n",
              "      <td>0.014319</td>\n",
              "      <td>-1.025944</td>\n",
              "      <td>0.982839</td>\n",
              "      <td>...</td>\n",
              "      <td>1.078495</td>\n",
              "      <td>-1.193343</td>\n",
              "      <td>0.086061</td>\n",
              "      <td>-0.081338</td>\n",
              "      <td>-0.978116</td>\n",
              "      <td>-0.368307</td>\n",
              "      <td>-0.129166</td>\n",
              "      <td>1.090452</td>\n",
              "      <td>-1.444440</td>\n",
              "      <td>0.468686</td>\n",
              "    </tr>\n",
              "    <tr>\n",
              "      <th>2249</th>\n",
              "      <td>-1.319572</td>\n",
              "      <td>-0.485173</td>\n",
              "      <td>-0.098500</td>\n",
              "      <td>2.323293</td>\n",
              "      <td>-0.139202</td>\n",
              "      <td>-0.953250</td>\n",
              "      <td>0.084661</td>\n",
              "      <td>-0.566577</td>\n",
              "      <td>1.427840</td>\n",
              "      <td>-0.403768</td>\n",
              "      <td>...</td>\n",
              "      <td>-0.505524</td>\n",
              "      <td>-0.220607</td>\n",
              "      <td>-0.871845</td>\n",
              "      <td>0.654495</td>\n",
              "      <td>0.430631</td>\n",
              "      <td>-0.444470</td>\n",
              "      <td>-0.118851</td>\n",
              "      <td>0.471334</td>\n",
              "      <td>-0.078149</td>\n",
              "      <td>-0.566577</td>\n",
              "    </tr>\n",
              "  </tbody>\n",
              "</table>\n",
              "<p>2250 rows × 1200 columns</p>\n",
              "</div>\n",
              "      <button class=\"colab-df-convert\" onclick=\"convertToInteractive('df-21418fe9-e43a-4bcb-9ab5-e894a35914cd')\"\n",
              "              title=\"Convert this dataframe to an interactive table.\"\n",
              "              style=\"display:none;\">\n",
              "        \n",
              "  <svg xmlns=\"http://www.w3.org/2000/svg\" height=\"24px\"viewBox=\"0 0 24 24\"\n",
              "       width=\"24px\">\n",
              "    <path d=\"M0 0h24v24H0V0z\" fill=\"none\"/>\n",
              "    <path d=\"M18.56 5.44l.94 2.06.94-2.06 2.06-.94-2.06-.94-.94-2.06-.94 2.06-2.06.94zm-11 1L8.5 8.5l.94-2.06 2.06-.94-2.06-.94L8.5 2.5l-.94 2.06-2.06.94zm10 10l.94 2.06.94-2.06 2.06-.94-2.06-.94-.94-2.06-.94 2.06-2.06.94z\"/><path d=\"M17.41 7.96l-1.37-1.37c-.4-.4-.92-.59-1.43-.59-.52 0-1.04.2-1.43.59L10.3 9.45l-7.72 7.72c-.78.78-.78 2.05 0 2.83L4 21.41c.39.39.9.59 1.41.59.51 0 1.02-.2 1.41-.59l7.78-7.78 2.81-2.81c.8-.78.8-2.07 0-2.86zM5.41 20L4 18.59l7.72-7.72 1.47 1.35L5.41 20z\"/>\n",
              "  </svg>\n",
              "      </button>\n",
              "      \n",
              "  <style>\n",
              "    .colab-df-container {\n",
              "      display:flex;\n",
              "      flex-wrap:wrap;\n",
              "      gap: 12px;\n",
              "    }\n",
              "\n",
              "    .colab-df-convert {\n",
              "      background-color: #E8F0FE;\n",
              "      border: none;\n",
              "      border-radius: 50%;\n",
              "      cursor: pointer;\n",
              "      display: none;\n",
              "      fill: #1967D2;\n",
              "      height: 32px;\n",
              "      padding: 0 0 0 0;\n",
              "      width: 32px;\n",
              "    }\n",
              "\n",
              "    .colab-df-convert:hover {\n",
              "      background-color: #E2EBFA;\n",
              "      box-shadow: 0px 1px 2px rgba(60, 64, 67, 0.3), 0px 1px 3px 1px rgba(60, 64, 67, 0.15);\n",
              "      fill: #174EA6;\n",
              "    }\n",
              "\n",
              "    [theme=dark] .colab-df-convert {\n",
              "      background-color: #3B4455;\n",
              "      fill: #D2E3FC;\n",
              "    }\n",
              "\n",
              "    [theme=dark] .colab-df-convert:hover {\n",
              "      background-color: #434B5C;\n",
              "      box-shadow: 0px 1px 3px 1px rgba(0, 0, 0, 0.15);\n",
              "      filter: drop-shadow(0px 1px 2px rgba(0, 0, 0, 0.3));\n",
              "      fill: #FFFFFF;\n",
              "    }\n",
              "  </style>\n",
              "\n",
              "      <script>\n",
              "        const buttonEl =\n",
              "          document.querySelector('#df-21418fe9-e43a-4bcb-9ab5-e894a35914cd button.colab-df-convert');\n",
              "        buttonEl.style.display =\n",
              "          google.colab.kernel.accessAllowed ? 'block' : 'none';\n",
              "\n",
              "        async function convertToInteractive(key) {\n",
              "          const element = document.querySelector('#df-21418fe9-e43a-4bcb-9ab5-e894a35914cd');\n",
              "          const dataTable =\n",
              "            await google.colab.kernel.invokeFunction('convertToInteractive',\n",
              "                                                     [key], {});\n",
              "          if (!dataTable) return;\n",
              "\n",
              "          const docLinkHtml = 'Like what you see? Visit the ' +\n",
              "            '<a target=\"_blank\" href=https://colab.research.google.com/notebooks/data_table.ipynb>data table notebook</a>'\n",
              "            + ' to learn more about interactive tables.';\n",
              "          element.innerHTML = '';\n",
              "          dataTable['output_type'] = 'display_data';\n",
              "          await google.colab.output.renderOutput(dataTable, element);\n",
              "          const docLink = document.createElement('div');\n",
              "          docLink.innerHTML = docLinkHtml;\n",
              "          element.appendChild(docLink);\n",
              "        }\n",
              "      </script>\n",
              "    </div>\n",
              "  </div>\n",
              "  "
            ]
          },
          "metadata": {},
          "execution_count": 379
        }
      ]
    },
    {
      "cell_type": "code",
      "source": [
        "submission_pred=xg_model.predict(test_d)\n",
        "submission_pred"
      ],
      "metadata": {
        "colab": {
          "base_uri": "https://localhost:8080/"
        },
        "id": "td25WFkuPkRY",
        "outputId": "fdc6dc26-6b59-416d-fda5-9140ee5025ec"
      },
      "execution_count": null,
      "outputs": [
        {
          "output_type": "execute_result",
          "data": {
            "text/plain": [
              "array([0, 0, 0, ..., 1, 0, 0])"
            ]
          },
          "metadata": {},
          "execution_count": 380
        }
      ]
    },
    {
      "cell_type": "code",
      "source": [
        "submission_data=pd.DataFrame({'id':test_data['id'],'Prediciton':submission_pred})\n",
        "submission_data"
      ],
      "metadata": {
        "colab": {
          "base_uri": "https://localhost:8080/",
          "height": 423
        },
        "id": "eH50xYYCPlvx",
        "outputId": "d1cb4f75-b587-427f-c876-02a16424e09a"
      },
      "execution_count": null,
      "outputs": [
        {
          "output_type": "execute_result",
          "data": {
            "text/plain": [
              "        id  Prediciton\n",
              "0        1           0\n",
              "1        2           0\n",
              "2        3           0\n",
              "3        4           0\n",
              "4        5           0\n",
              "...    ...         ...\n",
              "2245  2246           0\n",
              "2246  2247           0\n",
              "2247  2248           1\n",
              "2248  2249           0\n",
              "2249  2250           0\n",
              "\n",
              "[2250 rows x 2 columns]"
            ],
            "text/html": [
              "\n",
              "  <div id=\"df-20828eb7-2d07-49bf-9c16-cc0a1a2e207a\">\n",
              "    <div class=\"colab-df-container\">\n",
              "      <div>\n",
              "<style scoped>\n",
              "    .dataframe tbody tr th:only-of-type {\n",
              "        vertical-align: middle;\n",
              "    }\n",
              "\n",
              "    .dataframe tbody tr th {\n",
              "        vertical-align: top;\n",
              "    }\n",
              "\n",
              "    .dataframe thead th {\n",
              "        text-align: right;\n",
              "    }\n",
              "</style>\n",
              "<table border=\"1\" class=\"dataframe\">\n",
              "  <thead>\n",
              "    <tr style=\"text-align: right;\">\n",
              "      <th></th>\n",
              "      <th>id</th>\n",
              "      <th>Prediciton</th>\n",
              "    </tr>\n",
              "  </thead>\n",
              "  <tbody>\n",
              "    <tr>\n",
              "      <th>0</th>\n",
              "      <td>1</td>\n",
              "      <td>0</td>\n",
              "    </tr>\n",
              "    <tr>\n",
              "      <th>1</th>\n",
              "      <td>2</td>\n",
              "      <td>0</td>\n",
              "    </tr>\n",
              "    <tr>\n",
              "      <th>2</th>\n",
              "      <td>3</td>\n",
              "      <td>0</td>\n",
              "    </tr>\n",
              "    <tr>\n",
              "      <th>3</th>\n",
              "      <td>4</td>\n",
              "      <td>0</td>\n",
              "    </tr>\n",
              "    <tr>\n",
              "      <th>4</th>\n",
              "      <td>5</td>\n",
              "      <td>0</td>\n",
              "    </tr>\n",
              "    <tr>\n",
              "      <th>...</th>\n",
              "      <td>...</td>\n",
              "      <td>...</td>\n",
              "    </tr>\n",
              "    <tr>\n",
              "      <th>2245</th>\n",
              "      <td>2246</td>\n",
              "      <td>0</td>\n",
              "    </tr>\n",
              "    <tr>\n",
              "      <th>2246</th>\n",
              "      <td>2247</td>\n",
              "      <td>0</td>\n",
              "    </tr>\n",
              "    <tr>\n",
              "      <th>2247</th>\n",
              "      <td>2248</td>\n",
              "      <td>1</td>\n",
              "    </tr>\n",
              "    <tr>\n",
              "      <th>2248</th>\n",
              "      <td>2249</td>\n",
              "      <td>0</td>\n",
              "    </tr>\n",
              "    <tr>\n",
              "      <th>2249</th>\n",
              "      <td>2250</td>\n",
              "      <td>0</td>\n",
              "    </tr>\n",
              "  </tbody>\n",
              "</table>\n",
              "<p>2250 rows × 2 columns</p>\n",
              "</div>\n",
              "      <button class=\"colab-df-convert\" onclick=\"convertToInteractive('df-20828eb7-2d07-49bf-9c16-cc0a1a2e207a')\"\n",
              "              title=\"Convert this dataframe to an interactive table.\"\n",
              "              style=\"display:none;\">\n",
              "        \n",
              "  <svg xmlns=\"http://www.w3.org/2000/svg\" height=\"24px\"viewBox=\"0 0 24 24\"\n",
              "       width=\"24px\">\n",
              "    <path d=\"M0 0h24v24H0V0z\" fill=\"none\"/>\n",
              "    <path d=\"M18.56 5.44l.94 2.06.94-2.06 2.06-.94-2.06-.94-.94-2.06-.94 2.06-2.06.94zm-11 1L8.5 8.5l.94-2.06 2.06-.94-2.06-.94L8.5 2.5l-.94 2.06-2.06.94zm10 10l.94 2.06.94-2.06 2.06-.94-2.06-.94-.94-2.06-.94 2.06-2.06.94z\"/><path d=\"M17.41 7.96l-1.37-1.37c-.4-.4-.92-.59-1.43-.59-.52 0-1.04.2-1.43.59L10.3 9.45l-7.72 7.72c-.78.78-.78 2.05 0 2.83L4 21.41c.39.39.9.59 1.41.59.51 0 1.02-.2 1.41-.59l7.78-7.78 2.81-2.81c.8-.78.8-2.07 0-2.86zM5.41 20L4 18.59l7.72-7.72 1.47 1.35L5.41 20z\"/>\n",
              "  </svg>\n",
              "      </button>\n",
              "      \n",
              "  <style>\n",
              "    .colab-df-container {\n",
              "      display:flex;\n",
              "      flex-wrap:wrap;\n",
              "      gap: 12px;\n",
              "    }\n",
              "\n",
              "    .colab-df-convert {\n",
              "      background-color: #E8F0FE;\n",
              "      border: none;\n",
              "      border-radius: 50%;\n",
              "      cursor: pointer;\n",
              "      display: none;\n",
              "      fill: #1967D2;\n",
              "      height: 32px;\n",
              "      padding: 0 0 0 0;\n",
              "      width: 32px;\n",
              "    }\n",
              "\n",
              "    .colab-df-convert:hover {\n",
              "      background-color: #E2EBFA;\n",
              "      box-shadow: 0px 1px 2px rgba(60, 64, 67, 0.3), 0px 1px 3px 1px rgba(60, 64, 67, 0.15);\n",
              "      fill: #174EA6;\n",
              "    }\n",
              "\n",
              "    [theme=dark] .colab-df-convert {\n",
              "      background-color: #3B4455;\n",
              "      fill: #D2E3FC;\n",
              "    }\n",
              "\n",
              "    [theme=dark] .colab-df-convert:hover {\n",
              "      background-color: #434B5C;\n",
              "      box-shadow: 0px 1px 3px 1px rgba(0, 0, 0, 0.15);\n",
              "      filter: drop-shadow(0px 1px 2px rgba(0, 0, 0, 0.3));\n",
              "      fill: #FFFFFF;\n",
              "    }\n",
              "  </style>\n",
              "\n",
              "      <script>\n",
              "        const buttonEl =\n",
              "          document.querySelector('#df-20828eb7-2d07-49bf-9c16-cc0a1a2e207a button.colab-df-convert');\n",
              "        buttonEl.style.display =\n",
              "          google.colab.kernel.accessAllowed ? 'block' : 'none';\n",
              "\n",
              "        async function convertToInteractive(key) {\n",
              "          const element = document.querySelector('#df-20828eb7-2d07-49bf-9c16-cc0a1a2e207a');\n",
              "          const dataTable =\n",
              "            await google.colab.kernel.invokeFunction('convertToInteractive',\n",
              "                                                     [key], {});\n",
              "          if (!dataTable) return;\n",
              "\n",
              "          const docLinkHtml = 'Like what you see? Visit the ' +\n",
              "            '<a target=\"_blank\" href=https://colab.research.google.com/notebooks/data_table.ipynb>data table notebook</a>'\n",
              "            + ' to learn more about interactive tables.';\n",
              "          element.innerHTML = '';\n",
              "          dataTable['output_type'] = 'display_data';\n",
              "          await google.colab.output.renderOutput(dataTable, element);\n",
              "          const docLink = document.createElement('div');\n",
              "          docLink.innerHTML = docLinkHtml;\n",
              "          element.appendChild(docLink);\n",
              "        }\n",
              "      </script>\n",
              "    </div>\n",
              "  </div>\n",
              "  "
            ]
          },
          "metadata": {},
          "execution_count": 381
        }
      ]
    },
    {
      "cell_type": "code",
      "source": [
        "submission_data.to_csv('submission_xg.csv',index=False)"
      ],
      "metadata": {
        "id": "-PW5VAMqSZ_2"
      },
      "execution_count": null,
      "outputs": []
    },
    {
      "cell_type": "code",
      "source": [
        "predictions = xg_model.predict(Xtest_flatten)\n",
        "\n",
        "from sklearn.metrics import mean_absolute_error\n",
        "print(\"Mean Absolute Error : \" + str(mean_absolute_error(predictions, Ytest)))"
      ],
      "metadata": {
        "colab": {
          "base_uri": "https://localhost:8080/"
        },
        "id": "wcsyqiCJR7fo",
        "outputId": "da9df4cf-ea05-4a10-f121-7627c580e6ce"
      },
      "execution_count": null,
      "outputs": [
        {
          "output_type": "stream",
          "name": "stdout",
          "text": [
            "Mean Absolute Error : 0.15214285714285714\n"
          ]
        }
      ]
    },
    {
      "cell_type": "code",
      "source": [
        "from sklearn.metrics import f1_score\n",
        "f1_score=(Ytest,predictions)\n",
        "from sklearn.metrics import classification_report,confusion_matrix\n",
        "\n",
        "print(classification_report(Ytest,predictions))"
      ],
      "metadata": {
        "colab": {
          "base_uri": "https://localhost:8080/"
        },
        "id": "xk8NYVCRR9w_",
        "outputId": "da51f55e-71cb-471b-f6cb-6e8990062e25"
      },
      "execution_count": null,
      "outputs": [
        {
          "output_type": "stream",
          "name": "stdout",
          "text": [
            "              precision    recall  f1-score   support\n",
            "\n",
            "           0       0.84      0.97      0.90      3065\n",
            "           1       0.86      0.52      0.65      1135\n",
            "\n",
            "    accuracy                           0.85      4200\n",
            "   macro avg       0.85      0.74      0.78      4200\n",
            "weighted avg       0.85      0.85      0.83      4200\n",
            "\n"
          ]
        }
      ]
    }
  ],
  "metadata": {
    "colab": {
      "provenance": []
    },
    "kernelspec": {
      "display_name": "Python 3",
      "name": "python3"
    },
    "language_info": {
      "name": "python"
    }
  },
  "nbformat": 4,
  "nbformat_minor": 0
}